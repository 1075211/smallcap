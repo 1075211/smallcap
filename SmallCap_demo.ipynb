{
 "cells": [
  {
   "cell_type": "code",
   "execution_count": 1,
   "id": "7fdf316a",
   "metadata": {},
   "outputs": [
    {
     "name": "stderr",
     "output_type": "stream",
     "text": [
      "/Users/bkl121/miniconda3/envs/smallcap/lib/python3.9/site-packages/tqdm/auto.py:22: TqdmWarning: IProgress not found. Please update jupyter and ipywidgets. See https://ipywidgets.readthedocs.io/en/stable/user_install.html\n",
      "  from .autonotebook import tqdm as notebook_tqdm\n"
     ]
    }
   ],
   "source": [
    "import torch\n",
    "from transformers import ViTFeatureExtractor, AutoTokenizer, CLIPFeatureExtractor, AutoModel, AutoModelForCausalLM\n",
    "from transformers.models.auto.configuration_auto import AutoConfig\n",
    "from src.vision_encoder_decoder import SmallCap, SmallCapConfig\n",
    "from src.gpt2 import ThisGPT2Config, ThisGPT2LMHeadModel\n",
    "from src.utils import prep_strings, postprocess_preds\n",
    "import time\n",
    "\n",
    "image_path = 'data/image_truck.jpg'\n",
    "device = \"cuda\" if torch.cuda.is_available() else \"cpu\""
   ]
  },
  {
   "cell_type": "code",
   "execution_count": 2,
   "id": "ae1ef314",
   "metadata": {},
   "outputs": [],
   "source": [
    "# load feature extractor\n",
    "feature_extractor = CLIPFeatureExtractor.from_pretrained(\"openai/clip-vit-base-patch32\")\n",
    "\n",
    "# load and configure tokenizer\n",
    "tokenizer = AutoTokenizer.from_pretrained(\"gpt2\")\n",
    "tokenizer.pad_token = '!'\n",
    "tokenizer.eos_token = '.'\n",
    "\n",
    "# load model\n",
    "AutoConfig.register(\"this_gpt2\", ThisGPT2Config)\n",
    "AutoModel.register(ThisGPT2Config, ThisGPT2LMHeadModel)\n",
    "AutoModelForCausalLM.register(ThisGPT2Config, ThisGPT2LMHeadModel)\n",
    "AutoConfig.register(\"smallcap\", SmallCapConfig)\n",
    "AutoModel.register(SmallCapConfig, SmallCap)\n",
    "model = AutoModel.from_pretrained(\"Yova/SmallCap7M\")\n",
    "\n",
    "template = open('src/template.txt').read().strip() + ' '"
   ]
  },
  {
   "cell_type": "code",
   "execution_count": 3,
   "id": "329e1f5f",
   "metadata": {},
   "outputs": [],
   "source": [
    "# precompute captions for retrieval\n",
    "import json\n",
    "\n",
    "from src.retrieve_caps import *\n",
    "\n",
    "captions = json.load(open('datastore/coco_index_captions.json'))\n",
    "retrieval_model, feature_extractor_retrieval = clip.load(\"RN50x64\", device=device)\n",
    "retrieval_index = faiss.read_index('datastore/coco_index')"
   ]
  },
  {
   "cell_type": "code",
   "execution_count": 4,
   "id": "07c5e8b8",
   "metadata": {},
   "outputs": [],
   "source": [
    "def retrieve_caps(image_embedding, index, k=4):\n",
    "    xq = image_embedding.astype(np.float32)\n",
    "    faiss.normalize_L2(xq)\n",
    "    D, I = index.search(xq, k) \n",
    "    return I"
   ]
  },
  {
   "cell_type": "code",
   "execution_count": 5,
   "id": "6c7cfbd8",
   "metadata": {},
   "outputs": [],
   "source": [
    "# load example image \n",
    "from PIL import Image\n",
    "image = Image.open(image_path).convert(\"RGB\")"
   ]
  },
  {
   "cell_type": "code",
   "execution_count": null,
   "id": "ab2c398e",
   "metadata": {},
   "outputs": [],
   "source": [
    "# retrieve captions\n",
    "pixel_values_retrieval = feature_extractor_retrieval(image).to(device)\n",
    "\n",
    "with torch.no_grad():\n",
    "    image_embedding = retrieval_model.encode_image(pixel_values_retrieval.unsqueeze(0)).cpu().numpy()\n",
    "    \n",
    "nns = retrieve_caps(image_embedding, retrieval_index)[0]\n",
    "caps = [captions[i] for i in nns][:4]\n",
    "\n",
    "# prepare prompt\n",
    "decoder_input_ids = prep_strings('', tokenizer, template=template, retrieved_caps=caps, k=4, is_test=True)\n",
    "\n",
    "# generate caption\n",
    "pixel_values = feature_extractor(image, return_tensors=\"pt\").pixel_values\n",
    "with torch.no_grad():\n",
    "    pred = model.generate(pixel_values,\n",
    "                          decoder_input_ids=torch.tensor([decoder_input_ids]),\n",
    "                          max_new_tokens=25, no_repeat_ngram_size=0, length_penalty=0,\n",
    "                          min_length=1, num_beams=3, eos_token_id=tokenizer.eos_token_id)"
   ]
  },
  {
   "cell_type": "code",
   "execution_count": null,
   "id": "09760290",
   "metadata": {},
   "outputs": [],
   "source": [
    "display(image)\n",
    "print(\"Prompt:\\n\\n\")\n",
    "print(tokenizer.decode(decoder_input_ids))\n",
    "\n",
    "print(\"\\n\\nGenerated caption:\\n\\n\")\n",
    "print(postprocess_preds(tokenizer.decode(pred[0]), tokenizer))"
   ]
  },
  {
   "cell_type": "code",
   "execution_count": null,
   "id": "bbef3252",
   "metadata": {},
   "outputs": [],
   "source": []
  }
 ],
 "metadata": {
  "kernelspec": {
   "display_name": "Python 3 (ipykernel)",
   "language": "python",
   "name": "python3"
  },
  "language_info": {
   "codemirror_mode": {
    "name": "ipython",
    "version": 3
   },
   "file_extension": ".py",
   "mimetype": "text/x-python",
   "name": "python",
   "nbconvert_exporter": "python",
   "pygments_lexer": "ipython3",
   "version": "3.9.13"
  }
 },
 "nbformat": 4,
 "nbformat_minor": 5
}
